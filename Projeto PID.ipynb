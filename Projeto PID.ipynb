{
 "cells": [
  {
   "cell_type": "markdown",
   "metadata": {},
   "source": [
    "# Projetando um PID"
   ]
  },
  {
   "cell_type": "markdown",
   "metadata": {},
   "source": [
    "## Modelando o sistema\n",
    "\n",
    "Este trabalho foi baseado no problema 3.17 do livro *Control Systems* de *Norman S. Nise*, Sétima edição.\n",
    "\n",
    "![Modelando o vôo do míssil](img/missil.png)\n",
    "\n",
    "O problema modela o vôo de um míssil, que está sujeito a quatro forças: empuxo (*thrust*), sustentação (*lift*),\n",
    "arrasto (*drag*) e gravidade. O míssil voa com um ângulo de ataque, $\\alpha$, do seu eixo longitudinal, criando sustentação. Para seguir um determinado rumo, o ângulo do corpo da vertical, $\\phi$, é controlado rotacionando o motor na cauda. \n",
    "\n",
    "A função de transferência relaciona o ângulo do corpo, $\\phi$, e sua posição angular, $\\delta$, do motor na forma, como mostrado na equação abaixo:\n",
    "\n",
    "\\begin{align}\n",
    " \\frac{\\Phi(s)}{\\delta(s)} = \\frac{K_a s + K_b}{K_3 s^3 + K_2 s^2 + K_1 s + K_0} \\label{eq:plant}\n",
    "\\end{align}"
   ]
  },
  {
   "cell_type": "markdown",
   "metadata": {},
   "source": [
    "## Entendendo a planta\n",
    "\n",
    "Desejamos projetar um controlador PID para controlar o míssil, conforme relacionado pelo diagrama de blocos abaixo:\n",
    "\n",
    "![Diagrama de blocos](img/block-diagram.svg)\n",
    "\n",
    "Para fins práticos, escolheremos os parâmetros da planta de forma arbitrária.\n",
    "\n",
    "A resposta ao degrau e impulso da planta são mostrados abaixo:"
   ]
  },
  {
   "cell_type": "code",
   "execution_count": 6,
   "metadata": {
    "scrolled": false
   },
   "outputs": [],
   "source": [
    "%matplotlib ipympl\n",
    "import matplotlib.pyplot as plt \n",
    "from control import (TransferFunction, step_response, bode_plot,\n",
    "                     impulse_response, series, feedback, rlocus)\n",
    "\n",
    "ka, kb,  = [1, 5]\n",
    "k3, k2, k1, k0 = [2, 50, 10, 1]\n",
    "\n",
    "missile_tf = TransferFunction([ka, kb], [k3, k2, k1, k0])"
   ]
  },
  {
   "cell_type": "code",
   "execution_count": 7,
   "metadata": {},
   "outputs": [
    {
     "data": {
      "application/vnd.jupyter.widget-view+json": {
       "model_id": "",
       "version_major": 2,
       "version_minor": 0
      },
      "text/plain": [
       "FigureCanvasNbAgg()"
      ]
     },
     "metadata": {},
     "output_type": "display_data"
    }
   ],
   "source": [
    "def plot_step_response(tf, title='Step response'):\n",
    "    time, output = step_response(tf)\n",
    "    fig = plt.figure()\n",
    "    plt.plot(time, output)\n",
    "    plt.title(title)\n",
    "    plt.show()\n",
    "    \n",
    "plot_step_response(missile_tf, title='Plant step response')"
   ]
  },
  {
   "cell_type": "markdown",
   "metadata": {},
   "source": [
    "E também podemos visualizar a resposta em frequência da planta através do diagrama de *Bode*:"
   ]
  },
  {
   "cell_type": "code",
   "execution_count": 8,
   "metadata": {},
   "outputs": [
    {
     "data": {
      "application/vnd.jupyter.widget-view+json": {
       "model_id": "",
       "version_major": 2,
       "version_minor": 0
      },
      "text/plain": [
       "FigureCanvasNbAgg()"
      ]
     },
     "metadata": {},
     "output_type": "display_data"
    }
   ],
   "source": [
    "plt.figure()\n",
    "mag, phase, omega = bode_plot(missile_tf)"
   ]
  },
  {
   "cell_type": "markdown",
   "metadata": {},
   "source": [
    "## Ajustando controlador"
   ]
  },
  {
   "cell_type": "markdown",
   "metadata": {},
   "source": [
    "### Método resposta a frequência de Ziegler-Nichols\n",
    "A fim de aplicarmos este método, acharemos o ganho crítico do sistema. Para isso analisaremos o lugar das raízes:"
   ]
  },
  {
   "cell_type": "code",
   "execution_count": 10,
   "metadata": {},
   "outputs": [
    {
     "data": {
      "application/vnd.jupyter.widget-view+json": {
       "model_id": "e67bd7c42ef54249951584620a1b96cf",
       "version_major": 2,
       "version_minor": 0
      },
      "text/plain": [
       "FigureCanvasNbAgg()"
      ]
     },
     "metadata": {},
     "output_type": "display_data"
    }
   ],
   "source": [
    "%matplotlib ipympl\n",
    "loci = rlocus(missile_tf,Plot=True, PrintGain=True)"
   ]
  },
  {
   "cell_type": "markdown",
   "metadata": {},
   "source": [
    "Porém, percebe-se que nosso sistema não tem um ganho crítico, podemos aumentá-lo indefinidamente. Logo, não podemos utilizar este método. \n",
    "Recorreremos a outro método."
   ]
  },
  {
   "cell_type": "markdown",
   "metadata": {},
   "source": [
    "### Método resposta ao degrau de Ziegler-Nichols"
   ]
  }
 ],
 "metadata": {
  "kernelspec": {
   "display_name": "Python 3",
   "language": "python",
   "name": "python3"
  },
  "language_info": {
   "codemirror_mode": {
    "name": "ipython",
    "version": 3
   },
   "file_extension": ".py",
   "mimetype": "text/x-python",
   "name": "python",
   "nbconvert_exporter": "python",
   "pygments_lexer": "ipython3",
   "version": "3.7.3"
  }
 },
 "nbformat": 4,
 "nbformat_minor": 2
}
