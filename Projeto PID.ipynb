{
 "cells": [
  {
   "cell_type": "markdown",
   "metadata": {},
   "source": [
    "# Projetando um PID"
   ]
  },
  {
   "cell_type": "markdown",
   "metadata": {},
   "source": [
    "## Modelando o sistema\n",
    "\n",
    "Este trabalho foi baseado no problema 3.17 do livro *Control Systems* de *Norman S. Nise*, Sétima edição.\n",
    "\n",
    "![Modelando o vôo do míssil](img/missil.png)\n",
    "\n",
    "O problema modela o vôo de um míssil, que está sujeito a quatro forças: empuxo (*thrust*), sustentação (*lift*),\n",
    "arrasto (*drag*) e gravidade. O míssil voa com um ângulo de ataque, $\\alpha$, do seu eixo longitudinal, criando sustentação. Para seguir um determinado rumo, o ângulo do corpo da vertical, $\\phi$, é controlado rotacionando o motor na cauda. \n",
    "\n",
    "A função de transferência relaciona o ângulo do corpo, $\\phi$, e sua posição angular, $\\delta$, do motor na forma, como mostrado na equação abaixo:\n",
    "\n",
    "\\begin{align}\n",
    " \\frac{\\Phi(s)}{\\delta(s)} = \\frac{K_a s + K_b}{K_3 s^3 + K_2 s^2 + K_1 s + K_0} \\label{eq:plant}\n",
    "\\end{align}"
   ]
  },
  {
   "cell_type": "markdown",
   "metadata": {},
   "source": [
    "## Entendendo a planta\n",
    "\n",
    "Desejamos projetar um controlador PID para controlar o míssil, conforme relacionado pelo diagrama de blocos abaixo:\n",
    "\n",
    "![Diagrama de blocos](img/block-diagram.svg)\n",
    "\n",
    "Para fins práticos, escolheremos os parâmetros da planta de forma arbitrária.\n",
    "\n",
    "A resposta ao degrau e impulso da planta são mostrados abaixo:"
   ]
  },
  {
   "cell_type": "code",
   "execution_count": 97,
   "metadata": {
    "scrolled": false
   },
   "outputs": [],
   "source": [
    "%matplotlib ipympl\n",
    "import matplotlib.pyplot as plt\n",
    "import numpy as np\n",
    "from control import (TransferFunction, step_response, bode_plot,\n",
    "                     impulse_response, series, feedback, rlocus)\n",
    "\n",
    "ka, kb,  = [1, 5]\n",
    "k3, k2, k1, k0 = [2, 50, 10, 5]\n",
    "\n",
    "plant_tf = TransferFunction([ka, kb], [k3, k2, k1, k0])"
   ]
  },
  {
   "cell_type": "code",
   "execution_count": 98,
   "metadata": {},
   "outputs": [
    {
     "data": {
      "application/vnd.jupyter.widget-view+json": {
       "model_id": "27e7e01628cf4e12b0ee810928c036ce",
       "version_major": 2,
       "version_minor": 0
      },
      "text/plain": [
       "FigureCanvasNbAgg()"
      ]
     },
     "metadata": {},
     "output_type": "display_data"
    }
   ],
   "source": [
    "def plot_step_response(tf, title='Step response', show_points=False):\n",
    "    time, output = step_response(tf)\n",
    "    fig = plt.figure()\n",
    "    plt.plot(time, output)\n",
    "    if show_points:\n",
    "        plt.plot(time, output,'om')\n",
    "    plt.title(title)\n",
    "    plt.show()\n",
    "    return time,output\n",
    "\n",
    "time,output = plot_step_response(plant_tf, \n",
    "                                 title='Plant step response')"
   ]
  },
  {
   "cell_type": "markdown",
   "metadata": {},
   "source": [
    "E também podemos visualizar a resposta em frequência da planta através do diagrama de *Bode*:"
   ]
  },
  {
   "cell_type": "code",
   "execution_count": 99,
   "metadata": {},
   "outputs": [
    {
     "data": {
      "application/vnd.jupyter.widget-view+json": {
       "model_id": "0433968f5ad1408d9902f45ee0a2f360",
       "version_major": 2,
       "version_minor": 0
      },
      "text/plain": [
       "FigureCanvasNbAgg()"
      ]
     },
     "metadata": {},
     "output_type": "display_data"
    }
   ],
   "source": [
    "plt.figure()\n",
    "plt.title(\"Bode plot\")\n",
    "mag, phase, omega = bode_plot(plant_tf)"
   ]
  },
  {
   "cell_type": "markdown",
   "metadata": {},
   "source": [
    "## Ajustando controlador"
   ]
  },
  {
   "cell_type": "markdown",
   "metadata": {},
   "source": [
    "### Método resposta a frequência de Ziegler-Nichols\n",
    "A fim de aplicarmos este método, acharemos o ganho crítico do sistema. Para isso analisaremos o lugar das raízes:"
   ]
  },
  {
   "cell_type": "code",
   "execution_count": 21,
   "metadata": {},
   "outputs": [
    {
     "data": {
      "application/vnd.jupyter.widget-view+json": {
       "model_id": "",
       "version_major": 2,
       "version_minor": 0
      },
      "text/plain": [
       "FigureCanvasNbAgg()"
      ]
     },
     "metadata": {},
     "output_type": "display_data"
    }
   ],
   "source": [
    "loci = rlocus(plant_tf, Plot=True, PrintGain=True)"
   ]
  },
  {
   "cell_type": "markdown",
   "metadata": {},
   "source": [
    "Porém, percebe-se que nosso sistema não tem um ganho crítico, podemos aumentá-lo indefinidamente. Logo, não podemos utilizar este método."
   ]
  },
  {
   "cell_type": "markdown",
   "metadata": {},
   "source": [
    "### Método resposta ao degrau de Ziegler-Nichols"
   ]
  },
  {
   "cell_type": "markdown",
   "metadata": {},
   "source": [
    "Para este método, precisamos achar o ponto de inflexão da curva para podermos calcular dois parâmetros: $L$ e $\\alpha$. Destes dois \n",
    "parâmetros, projetaremos um P, PI ou PID seguindo as regras da tabela:\n",
    "\n",
    "\\begin{array}{rr} \\hline\n",
    "\\text{Controlador} & K &T_i&T_d\\\\ \\hline\n",
    "\\text{P} &1/\\alpha&&& \\\\ \\hline\n",
    "\\text{PI} &0.9/\\alpha&3L&& \\\\ \\hline\n",
    "\\text{PID} &1.2/\\alpha&2L&L/2& \\\\ \\hline\n",
    "\\end{array}\n",
    "\n",
    "E a seguinte função transferência:\n",
    "\\begin{align}\n",
    "\\frac{\\Delta(s)}{E(s)} = K_c \\left( 1 + \\frac{1}{T_i s} + T_d s \\right)\n",
    "\\end{align}\n",
    "\n",
    "Para encontrar estes parâmetros, revisitaremos a resposta ao degrau \n",
    "e escolheremos o ponto de inflexão para traçar a tangente."
   ]
  },
  {
   "cell_type": "code",
   "execution_count": 100,
   "metadata": {},
   "outputs": [
    {
     "data": {
      "application/vnd.jupyter.widget-view+json": {
       "model_id": "07a7dc4610ae404ca6aa23f5a4bcc39b",
       "version_major": 2,
       "version_minor": 0
      },
      "text/plain": [
       "FigureCanvasNbAgg()"
      ]
     },
     "metadata": {},
     "output_type": "display_data"
    }
   ],
   "source": [
    "time, output = plot_step_response(plant_tf, \n",
    "                                  title='Plant step response',\n",
    "                                  show_points=True)"
   ]
  },
  {
   "cell_type": "markdown",
   "metadata": {},
   "source": [
    "Escolhemos o quinto ponto como ponto de flexão, e vamos tracejar a linha tangente a ele, através da sua derivada (discreta)."
   ]
  },
  {
   "cell_type": "code",
   "execution_count": 101,
   "metadata": {},
   "outputs": [
    {
     "data": {
      "application/vnd.jupyter.widget-view+json": {
       "model_id": "c1bf1c6fa1fb4c6da13613e71de50f1b",
       "version_major": 2,
       "version_minor": 0
      },
      "text/plain": [
       "FigureCanvasNbAgg()"
      ]
     },
     "metadata": {},
     "output_type": "display_data"
    }
   ],
   "source": [
    "def derivate_around(x,y,index):\n",
    "    return (y[index] - y[index - 1])/(x[index]- x[index - 1])\n",
    "\n",
    "def tangent_line(x, y, index):\n",
    "    return y[index]+derivate_around(x, y, index)*(x - x[index])\n",
    "\n",
    "inflection_index = 5\n",
    "plt.figure()\n",
    "plt.title(\"Inflection point tangent line\")\n",
    "axes = plt.gca()\n",
    "axes.set_xlim([0,25])\n",
    "axes.set_ylim([-0.5,2])\n",
    "plt.grid(True)\n",
    "plt.plot(time,output,'b',time,tangent_line(time, output, inflection_index),'--r')\n",
    "plt.show()"
   ]
  },
  {
   "cell_type": "markdown",
   "metadata": {},
   "source": [
    "Da figura acima obtemos:\n",
    "\n",
    "\\begin{align*}\n",
    "L=1.12\\\\\n",
    "\\alpha=0.22\n",
    "\\end{align*}"
   ]
  },
  {
   "cell_type": "code",
   "execution_count": 74,
   "metadata": {},
   "outputs": [
    {
     "data": {
      "text/plain": [
       "(5.454545454545454, 2.24, 0.56)"
      ]
     },
     "execution_count": 74,
     "metadata": {},
     "output_type": "execute_result"
    }
   ],
   "source": [
    "def ziegler_nichols_constants(l,alpha):\n",
    "    return (1.2/alpha, 2*l, l/2)\n",
    "\n",
    "l = 1.12\n",
    "alpha = 0.22\n",
    "k, ti, td = ziegler_nichols_constants(l, alpha)\n",
    "\n",
    "(k, ti, td) "
   ]
  },
  {
   "cell_type": "markdown",
   "metadata": {},
   "source": [
    "Logo, temos:\n",
    "\n",
    "\\begin{align}\n",
    "K_c &= 5.45 \\\\\n",
    "T_i &= 2.24 \\\\\n",
    "T_d &= 0.56 \\\\\n",
    "\\frac{\\Delta(s)}{E(s)} &= 5.45 \\left( 1 + \\frac{1}{2.24 s} + 0.56 s \\right) = \\frac{6.83 s^2 + 12.2s +5.45}{2.24 s}\n",
    "\\end{align}"
   ]
  },
  {
   "cell_type": "code",
   "execution_count": 109,
   "metadata": {
    "scrolled": false
   },
   "outputs": [
    {
     "data": {
      "application/vnd.jupyter.widget-view+json": {
       "model_id": "e88c660b23a744c68e75aff5b0304d04",
       "version_major": 2,
       "version_minor": 0
      },
      "text/plain": [
       "FigureCanvasNbAgg()"
      ]
     },
     "metadata": {},
     "output_type": "display_data"
    },
    {
     "data": {
      "text/plain": [
       "(array([ 0.        ,  0.8304762 ,  1.66095239,  2.49142859,  3.32190479,\n",
       "         4.15238099,  4.98285718,  5.81333338,  6.64380958,  7.47428577,\n",
       "         8.30476197,  9.13523817,  9.96571436, 10.79619056, 11.62666676,\n",
       "        12.45714296, 13.28761915, 14.11809535, 14.94857155, 15.77904774,\n",
       "        16.60952394, 17.44000014, 18.27047634, 19.10095253, 19.93142873,\n",
       "        20.76190493, 21.59238112, 22.42285732, 23.25333352, 24.08380972,\n",
       "        24.91428591, 25.74476211, 26.57523831, 27.4057145 , 28.2361907 ,\n",
       "        29.0666669 , 29.89714309, 30.72761929, 31.55809549, 32.38857169,\n",
       "        33.21904788, 34.04952408, 34.88000028, 35.71047647, 36.54095267,\n",
       "        37.37142887, 38.20190507, 39.03238126, 39.86285746, 40.69333366,\n",
       "        41.52380985, 42.35428605, 43.18476225, 44.01523844, 44.84571464,\n",
       "        45.67619084, 46.50666704, 47.33714323, 48.16761943, 48.99809563,\n",
       "        49.82857182, 50.65904802, 51.48952422, 52.32000042, 53.15047661,\n",
       "        53.98095281, 54.81142901, 55.6419052 , 56.4723814 , 57.3028576 ,\n",
       "        58.1333338 , 58.96380999, 59.79428619, 60.62476239, 61.45523858,\n",
       "        62.28571478, 63.11619098, 63.94666717, 64.77714337, 65.60761957,\n",
       "        66.43809577, 67.26857196, 68.09904816, 68.92952436, 69.76000055,\n",
       "        70.59047675, 71.42095295, 72.25142915, 73.08190534, 73.91238154,\n",
       "        74.74285774, 75.57333393, 76.40381013, 77.23428633, 78.06476252,\n",
       "        78.89523872, 79.72571492, 80.55619112, 81.38666731, 82.21714351]),\n",
       " array([0.        , 0.43138748, 0.89880228, 1.2863705 , 1.47755724,\n",
       "        1.43909721, 1.22347551, 0.93918667, 0.7040603 , 0.60112948,\n",
       "        0.65299468, 0.82171292, 1.03091259, 1.19908442, 1.2703385 ,\n",
       "        1.23165405, 1.11206278, 0.96645386, 0.85199099, 0.80679581,\n",
       "        0.83844418, 0.9252155 , 1.0279545 , 1.10678232, 1.13586871,\n",
       "        1.11108616, 1.04866841, 0.97655332, 0.9225605 , 0.9041712 ,\n",
       "        0.92345978, 0.9683625 , 1.01898104, 1.05593748, 1.06743599,\n",
       "        1.05260336, 1.02037003, 0.98489132, 0.95964994, 0.95258371,\n",
       "        0.96389603, 0.98700098, 1.01184196, 1.02904975, 1.0332993 ,\n",
       "        1.0247358 , 1.00819989, 0.99082737, 0.97912085, 0.97664062,\n",
       "        0.98308263, 0.99489993, 1.00703546, 1.01498195, 1.01636786,\n",
       "        1.0115484 , 1.00311519, 0.99464783, 0.98926641, 0.98854411,\n",
       "        0.99213229, 0.99814226, 1.00404325, 1.00767835, 1.0080088 ,\n",
       "        1.00534881, 1.00107148, 0.99696394, 0.9945152 , 0.99440753,\n",
       "        0.99637182, 0.99941209, 1.00226776, 1.00391242, 1.00390061,\n",
       "        1.00245511, 1.00029686, 0.99831399, 0.99721298, 0.99728265,\n",
       "        0.99834299, 0.99987321, 1.00124829, 1.00198273, 1.00189076,\n",
       "        1.00111521, 1.00003158, 0.99907924, 0.99859127, 0.998686  ,\n",
       "        0.99925173, 1.00001819, 1.00067688, 1.00099964, 1.00091203,\n",
       "        1.00050038, 0.9999589 , 0.99950395, 0.99929151, 0.99936779]))"
      ]
     },
     "execution_count": 109,
     "metadata": {},
     "output_type": "execute_result"
    }
   ],
   "source": [
    "controller_tf = TransferFunction([k*ti*td, k*ti, k],[ti, 0])\n",
    "system = feedback(series(controller_tf, plant_tf), 1)\n",
    "\n",
    "plot_step_response(system)"
   ]
  }
 ],
 "metadata": {
  "kernelspec": {
   "display_name": "Python 3",
   "language": "python",
   "name": "python3"
  },
  "language_info": {
   "codemirror_mode": {
    "name": "ipython",
    "version": 3
   },
   "file_extension": ".py",
   "mimetype": "text/x-python",
   "name": "python",
   "nbconvert_exporter": "python",
   "pygments_lexer": "ipython3",
   "version": "3.7.3"
  }
 },
 "nbformat": 4,
 "nbformat_minor": 2
}
