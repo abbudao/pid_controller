{
 "cells": [
  {
   "cell_type": "markdown",
   "metadata": {},
   "source": [
    "# Projetando um PID"
   ]
  },
  {
   "cell_type": "markdown",
   "metadata": {},
   "source": [
    "## Modelando o sistema\n",
    "\n",
    "Este trabalho foi baseado no problema 3.17 do livro *Control Systems* de *Norman S. Nise*, Sétima edição.\n",
    "\n",
    "![Modelando o vôo do míssil](img/missil.png)\n",
    "\n",
    "O problema modela o vôo de um míssil, que está sujeito a quatro forças: empuxo (*thrust*), sustentação (*lift*),\n",
    "arrasto (*drag*) e gravidade. O míssil voa com um ângulo de ataque, $\\alpha$, do seu eixo longitudinal, criando sustentação. Para seguir um determinado rumo, o ângulo do corpo da vertical, $\\phi$, é controlado rotacionando o motor na cauda. \n",
    "\n",
    "A função de transferência relaciona o ângulo do corpo, $\\phi$, e sua posição angular, $\\delta$, do motor na forma, como mostrado na equação abaixo:\n",
    "\n",
    "\\begin{align}\n",
    " \\frac{\\Phi(s)}{\\delta(s)} = \\frac{K_a s + K_b}{K_3 s^3 + K_2 s^2 + K_1 s + K_0} \\label{eq:plant}\n",
    "\\end{align}"
   ]
  },
  {
   "cell_type": "markdown",
   "metadata": {},
   "source": [
    "## Entendendo a planta\n",
    "\n",
    "Desejamos projetar um controlador PID para controlar o míssil, conforme relacionado pelo diagrama de blocos abaixo:\n",
    "\n",
    "![Diagrama de blocos](img/block-diagram.svg)\n",
    "\n",
    "Para fins práticos, escolheremos os parâmetros da planta de forma arbitrária.\n",
    "\n",
    "A resposta ao degrau e impulso da planta são mostrados abaixo:"
   ]
  },
  {
   "cell_type": "code",
   "execution_count": 1,
   "metadata": {
    "scrolled": false
   },
   "outputs": [],
   "source": [
    "%matplotlib ipympl\n",
    "import matplotlib.pyplot as plt\n",
    "import numpy as np\n",
    "from scipy.interpolate import interp1d\n",
    "from control import (TransferFunction, step_response, bode_plot,\n",
    "                     impulse_response, series, feedback, rlocus,\n",
    "                     margin, nyquist_plot)\n",
    "\n",
    "ka, kb,  = [1, 5]\n",
    "k3, k2, k1, k0 = [2, 50, 10, 10]\n",
    "\n",
    "plant_tf = TransferFunction([ka, kb], [k3, k2, k1, k0])"
   ]
  },
  {
   "cell_type": "code",
   "execution_count": 2,
   "metadata": {},
   "outputs": [
    {
     "data": {
      "application/vnd.jupyter.widget-view+json": {
       "model_id": "eaeff4db7b3b49e7a41e3214df1472c2",
       "version_major": 2,
       "version_minor": 0
      },
      "text/plain": [
       "FigureCanvasNbAgg()"
      ]
     },
     "metadata": {},
     "output_type": "display_data"
    }
   ],
   "source": [
    "def plot_step_response(tf, title='Step response', show_points=False):\n",
    "    time, output = step_response(tf)\n",
    "    fig = plt.figure()\n",
    "    plt.plot(time, output.flatten())\n",
    "    if show_points:\n",
    "        plt.plot(time, output,'om')\n",
    "    plt.title(title)\n",
    "    plt.show()\n",
    "    return time,output.flatten()\n",
    "\n",
    "time,output = plot_step_response(plant_tf, \n",
    "                                 title='Plant step response')"
   ]
  },
  {
   "cell_type": "markdown",
   "metadata": {},
   "source": [
    "E também podemos visualizar a resposta em frequência da planta através do diagrama de *Bode*:"
   ]
  },
  {
   "cell_type": "code",
   "execution_count": 3,
   "metadata": {},
   "outputs": [
    {
     "data": {
      "application/vnd.jupyter.widget-view+json": {
       "model_id": "0e4932b55cb54d2aafb16faacb79383f",
       "version_major": 2,
       "version_minor": 0
      },
      "text/plain": [
       "FigureCanvasNbAgg()"
      ]
     },
     "metadata": {},
     "output_type": "display_data"
    }
   ],
   "source": [
    "plt.figure()\n",
    "plt.title(\"Bode plot\")\n",
    "mag, phase, omega = bode_plot(plant_tf)"
   ]
  },
  {
   "cell_type": "markdown",
   "metadata": {},
   "source": [
    "## Escolhendo parâmetros para o controlador"
   ]
  },
  {
   "cell_type": "markdown",
   "metadata": {},
   "source": [
    "### Método resposta a frequência de Ziegler-Nichols\n",
    "A fim de aplicarmos este método, acharemos o ganho crítico do sistema. Para isso analisaremos o lugar das raízes:"
   ]
  },
  {
   "cell_type": "code",
   "execution_count": 4,
   "metadata": {},
   "outputs": [
    {
     "data": {
      "application/vnd.jupyter.widget-view+json": {
       "model_id": "74a29102f2e04999a90cd025eb43607b",
       "version_major": 2,
       "version_minor": 0
      },
      "text/plain": [
       "FigureCanvasNbAgg()"
      ]
     },
     "metadata": {},
     "output_type": "display_data"
    }
   ],
   "source": [
    "loci = rlocus(plant_tf, Plot=True, PrintGain=True)"
   ]
  },
  {
   "cell_type": "markdown",
   "metadata": {},
   "source": [
    "Porém, percebe-se que nosso sistema não tem um ganho crítico, podemos aumentá-lo indefinidamente. Logo, não podemos utilizar este método."
   ]
  },
  {
   "cell_type": "markdown",
   "metadata": {},
   "source": [
    "### Método resposta ao degrau de Ziegler-Nichols"
   ]
  },
  {
   "cell_type": "markdown",
   "metadata": {},
   "source": [
    "Para este método, precisamos achar o ponto de inflexão da curva para podermos calcular dois parâmetros: $L$ e $\\alpha$. Destes dois \n",
    "parâmetros, projetaremos um P, PI ou PID seguindo as regras da tabela:\n",
    "\n",
    "\\begin{array}{rr} \\hline\n",
    "\\text{Controlador} & K &T_i&T_d\\\\ \\hline\n",
    "\\text{P} &1/\\alpha&&& \\\\ \\hline\n",
    "\\text{PI} &0.9/\\alpha&3L&& \\\\ \\hline\n",
    "\\text{PID} &1.2/\\alpha&2L&L/2& \\\\ \\hline\n",
    "\\end{array}\n",
    "\n",
    "E a seguinte função transferência:\n",
    "\\begin{align}\n",
    "\\frac{\\Delta(s)}{E(s)} = K_c \\left( 1 + \\frac{1}{T_i s} + T_d s \\right)\n",
    "\\end{align}\n",
    "\n",
    "Para encontrar estes parâmetros, revisitaremos a resposta ao degrau \n",
    "e escolheremos o ponto de inflexão para traçar a tangente."
   ]
  },
  {
   "cell_type": "code",
   "execution_count": 5,
   "metadata": {},
   "outputs": [
    {
     "data": {
      "application/vnd.jupyter.widget-view+json": {
       "model_id": "071ef9739ae14fd58fff25d7d260f764",
       "version_major": 2,
       "version_minor": 0
      },
      "text/plain": [
       "FigureCanvasNbAgg()"
      ]
     },
     "metadata": {},
     "output_type": "display_data"
    }
   ],
   "source": [
    "time, output = plot_step_response(plant_tf, \n",
    "                                  title='Plant step response',\n",
    "                                  show_points=True)"
   ]
  },
  {
   "cell_type": "markdown",
   "metadata": {},
   "source": [
    "Escolhemos o quinto ponto como ponto de flexão, e vamos tracejar a linha tangente a ele, através da sua derivada (discreta)."
   ]
  },
  {
   "cell_type": "code",
   "execution_count": 6,
   "metadata": {},
   "outputs": [
    {
     "data": {
      "application/vnd.jupyter.widget-view+json": {
       "model_id": "8767fe51f5874a8cae5aa29a2dfce3ff",
       "version_major": 2,
       "version_minor": 0
      },
      "text/plain": [
       "FigureCanvasNbAgg()"
      ]
     },
     "metadata": {},
     "output_type": "display_data"
    }
   ],
   "source": [
    "def derivate_around(x,y,index):\n",
    "    return (y[index] - y[index - 1])/(x[index]- x[index - 1])\n",
    "\n",
    "def tangent_line(x, y, index):\n",
    "    return y[index]+derivate_around(x, y, index)*(x - x[index])\n",
    "\n",
    "inflection_index = 5\n",
    "plt.figure()\n",
    "plt.title(\"Inflection point tangent line\")\n",
    "axes = plt.gca()\n",
    "axes.set_xlim([0,25])\n",
    "axes.set_ylim([-0.5,2])\n",
    "plt.grid(True)\n",
    "plt.plot(time,output,'b',time,tangent_line(time, output, inflection_index),'--r')\n",
    "plt.show()"
   ]
  },
  {
   "cell_type": "markdown",
   "metadata": {},
   "source": [
    "Da figura acima obtemos $L$ e $\\alpha$, da intersecção da reta tangente e o eixos $x$ e $y$, respectivamente:\n",
    "\n",
    "\\begin{align*}\n",
    "L=0.86\\\\\n",
    "\\alpha=0.13\n",
    "\\end{align*}"
   ]
  },
  {
   "cell_type": "code",
   "execution_count": 7,
   "metadata": {},
   "outputs": [
    {
     "data": {
      "text/plain": [
       "(9.23076923076923, 1.72, 0.43)"
      ]
     },
     "execution_count": 7,
     "metadata": {},
     "output_type": "execute_result"
    }
   ],
   "source": [
    "def ziegler_nichols_constants(l,alpha):\n",
    "    return (1.2/alpha, 2*l, l/2)\n",
    "\n",
    "l = 0.86\n",
    "alpha = 0.13\n",
    "k, ti, td = ziegler_nichols_constants(l, alpha) \n",
    "\n",
    "(k, ti, td)"
   ]
  },
  {
   "cell_type": "markdown",
   "metadata": {},
   "source": [
    "Logo, temos:\n",
    "\n",
    "\\begin{align}\n",
    "K_c &= 9.23 \\\\\n",
    "T_i &= 1.72 \\\\\n",
    "T_d &= 0.43 \\\\\n",
    "\\frac{\\Delta(s)}{E(s)} &= 9.23 \\left( 1 + \\frac{1}{1.72 s} + 0.43 s \\right) = \\frac{6.83 s^2 + 15.88s +9.23}{1.72 s}\n",
    "\\end{align}"
   ]
  },
  {
   "cell_type": "code",
   "execution_count": 8,
   "metadata": {
    "scrolled": false
   },
   "outputs": [
    {
     "data": {
      "application/vnd.jupyter.widget-view+json": {
       "model_id": "2de4ee1cca274c5387963d0c0a07b540",
       "version_major": 2,
       "version_minor": 0
      },
      "text/plain": [
       "FigureCanvasNbAgg()"
      ]
     },
     "metadata": {},
     "output_type": "display_data"
    }
   ],
   "source": [
    "controller_tf = TransferFunction([k*ti*td, k*ti, k],[ti, 0])\n",
    "g = series(controller_tf, plant_tf)\n",
    "system = feedback(g, 1)\n",
    "time, output = plot_step_response(system)"
   ]
  },
  {
   "cell_type": "code",
   "execution_count": 9,
   "metadata": {
    "scrolled": false
   },
   "outputs": [
    {
     "data": {
      "application/vnd.jupyter.widget-view+json": {
       "model_id": "a34687676d864d208ae5f4a575bc1996",
       "version_major": 2,
       "version_minor": 0
      },
      "text/plain": [
       "FigureCanvasNbAgg()"
      ]
     },
     "metadata": {},
     "output_type": "display_data"
    },
    {
     "name": "stderr",
     "output_type": "stream",
     "text": [
      "/usr/lib/python3.7/site-packages/matplotlib/backends/backend_agg.py:211: RuntimeWarning: Glyph 8 missing from current font.\n",
      "  font.set_text(s, 0.0, flags=flags)\n",
      "/usr/lib/python3.7/site-packages/matplotlib/backends/backend_agg.py:180: RuntimeWarning: Glyph 8 missing from current font.\n",
      "  font.set_text(s, 0, flags=flags)\n",
      "/usr/lib/python3.7/site-packages/matplotlib/backends/backend_agg.py:211: RuntimeWarning: Glyph 8 missing from current font.\n",
      "  font.set_text(s, 0.0, flags=flags)\n",
      "/usr/lib/python3.7/site-packages/matplotlib/backends/backend_agg.py:180: RuntimeWarning: Glyph 8 missing from current font.\n",
      "  font.set_text(s, 0, flags=flags)\n"
     ]
    }
   ],
   "source": [
    "plt.figure()\n",
    "plt.title('Bode plot')\n",
    "_ = bode_plot(g, margins=True)"
   ]
  },
  {
   "cell_type": "markdown",
   "metadata": {},
   "source": [
    "E então, olharemos métricas em frequência:"
   ]
  },
  {
   "cell_type": "code",
   "execution_count": 10,
   "metadata": {},
   "outputs": [
    {
     "data": {
      "text/plain": [
       "(inf, 16.968921242249138, nan, 1.0644410587221755)"
      ]
     },
     "execution_count": 10,
     "metadata": {},
     "output_type": "execute_result"
    }
   ],
   "source": [
    "gm, pm, wg, wp = margin(g)\n",
    "(gm, pm, wg, wp)"
   ]
  },
  {
   "cell_type": "markdown",
   "metadata": {},
   "source": [
    "Como o pacote \"control\" não implementa métricas no tempo, teremos que implementá-las. "
   ]
  },
  {
   "cell_type": "code",
   "execution_count": 11,
   "metadata": {},
   "outputs": [
    {
     "data": {
      "text/plain": [
       "(1.4669213618614014, 46.64508784878061, 1.4000000000000001)"
      ]
     },
     "execution_count": 11,
     "metadata": {},
     "output_type": "execute_result"
    }
   ],
   "source": [
    "def settling_time(system, error=0.005):\n",
    "    time, output = step_response(system)\n",
    "    settling_time = None\n",
    "    for t, out in zip(time, output.flatten()):\n",
    "        if abs(1-out) < error:\n",
    "            if settling_time is None:\n",
    "                settling_time = t\n",
    "        else:\n",
    "                settling_time = None\n",
    "    return settling_time\n",
    "\n",
    "\n",
    "\n",
    "def rise_time(system, start=0, stop=1, precision=0.005):\n",
    "    time, output = step_response(system)\n",
    "    new_time, new_output = interpolate_resp(time, output.flatten(), start, stop)\n",
    "    start_index = first_bigger_than(new_output, start)\n",
    "    stop_index = first_bigger_than(new_output, stop-precision)\n",
    "    duration = new_time[stop_index]- new_time[start_index]\n",
    "    return np.asscalar(duration)\n",
    "\n",
    "def first_bigger_than(arr, reference):\n",
    "    bigger = np.where(arr >= reference)\n",
    "    if arr.any():\n",
    "        return bigger[0][0]\n",
    "    return 0\n",
    "\n",
    "def interpolate_resp(time, output, start, stop):\n",
    "    interpolated = interp1d(time, output.flatten())\n",
    "    inter_time = np.arange(0, 5*stop, stop/100)\n",
    "    inter_output = np.asarray([interpolated(t) for t in inter_time])\n",
    "    return inter_time, inter_output\n",
    "\n",
    "def overshoot(system):\n",
    "    time, output = step_response(system)\n",
    "    overshoot = max(output.flatten())\n",
    "    t_d = time[np.where( overshoot == output.flatten())]\n",
    "    return np.asscalar(t_d), overshoot\n",
    "\n",
    "def time_domain_metrics(system):\n",
    "    _, sys_overshoot = overshoot(system)\n",
    "    sys_settling = settling_time(system)\n",
    "    sys_tr = rise_time(system)\n",
    "    return (sys_overshoot, sys_settling, sys_tr)\n",
    "\n",
    "time_domain_metrics(system)"
   ]
  },
  {
   "cell_type": "markdown",
   "metadata": {},
   "source": [
    "### Desempenho ziegler-nichols sem ajustes ($C_{pid}$)\n",
    "\\begin{align}\n",
    "G_m &= \\infty \\\\\n",
    "P_m &= 16.97^{\\circ} \\\\\n",
    "M_p & = 1.47 \\\\\n",
    "T_s & = 24.65 s \\\\\n",
    "T_r & = 1.4s \\\\\n",
    "\\omega_p &= 1.06 rad/s\n",
    "\\end{align}"
   ]
  },
  {
   "cell_type": "markdown",
   "metadata": {},
   "source": [
    "## Ajustes manuais nos parâmetros ($C_{pid_2}$)\n",
    "\n",
    "A fim de diminuir o *overshoot* para abaixo de 20%, diminuiremos $T_i$ para um terço de seu valor\n",
    "e multiplicaremos $T_d$ por 9."
   ]
  },
  {
   "cell_type": "code",
   "execution_count": 12,
   "metadata": {
    "scrolled": false
   },
   "outputs": [
    {
     "data": {
      "application/vnd.jupyter.widget-view+json": {
       "model_id": "46f4abffd8b240a8ab28bf6b0a936f9e",
       "version_major": 2,
       "version_minor": 0
      },
      "text/plain": [
       "FigureCanvasNbAgg()"
      ]
     },
     "metadata": {},
     "output_type": "display_data"
    }
   ],
   "source": [
    "ti_2 = ti/3\n",
    "td_2 = td*9\n",
    "controller2_tf = TransferFunction([k*ti_2*td_2, k*ti_2, k],[ti_2, 0])\n",
    "g2 = series(controller2_tf, plant_tf)\n",
    "system2 = feedback(g2, 1)\n",
    "_, _ = plot_step_response(system2)"
   ]
  },
  {
   "cell_type": "code",
   "execution_count": 13,
   "metadata": {},
   "outputs": [
    {
     "data": {
      "application/vnd.jupyter.widget-view+json": {
       "model_id": "0364dc253b834c90aa7558550d274557",
       "version_major": 2,
       "version_minor": 0
      },
      "text/plain": [
       "FigureCanvasNbAgg()"
      ]
     },
     "metadata": {},
     "output_type": "display_data"
    }
   ],
   "source": [
    "plt.figure()\n",
    "plt.title('Bode plot')\n",
    "_ = bode_plot(g2, margins=True)"
   ]
  },
  {
   "cell_type": "code",
   "execution_count": 14,
   "metadata": {},
   "outputs": [
    {
     "data": {
      "text/plain": [
       "(inf,\n",
       " 122.42676661695816,\n",
       " 1.0750719937618094,\n",
       " 32.095442750715314,\n",
       " 1.25,\n",
       " 4.893614824832795)"
      ]
     },
     "execution_count": 14,
     "metadata": {},
     "output_type": "execute_result"
    }
   ],
   "source": [
    "sys2_overshoot, sys2_settling, sys2_tr = time_domain_metrics(system2)\n",
    "gm2, pm2, wg2, wp2 = margin(g2)\n",
    "\n",
    "(gm2, pm2, sys2_overshoot,sys2_settling, sys2_tr, wp2)"
   ]
  },
  {
   "cell_type": "markdown",
   "metadata": {},
   "source": [
    "### Desempenho ziegler-nichols com ajustes ($C_{pid_2}$)\n",
    "\\begin{align}\n",
    "G_m &= \\infty \\\\\n",
    "P_m &= 122.43^{\\circ} \\\\\n",
    "M_p & = 1.075 \\\\\n",
    "T_s & = 4.47 s \\\\\n",
    "T_r & = 1.28 s \\\\\n",
    "\\omega_p &= 4.89 rad/s\n",
    "\\end{align}"
   ]
  },
  {
   "cell_type": "markdown",
   "metadata": {},
   "source": [
    "## Design por compensadores"
   ]
  },
  {
   "cell_type": "markdown",
   "metadata": {},
   "source": [
    "Gostaríamos de projetar um controlador usando compensadores de atraso e de avanço. Como restrição, gostaríamos de uma frequência de corte muito maior que obtida em $C_{pid_1}$. \n",
    "\n",
    "Vamos fazer o design de um compensador de atraso, que é da forma:\n",
    "\\begin{align}\n",
    "C_{lag} = k_0 \\frac{1+ sT_i}{sT_i}\n",
    "\\end{align}\n",
    "\n",
    "Queremos uma frequência de corte, $\\omega_p$, uma ordem de grandeza maior. Da nossa intuição de design anteriores, escolheremos $T_i$ uma década antes da frequência de corte desejada, ou seja:\n",
    "\n",
    "\\begin{align}\n",
    "\\frac{1}{T_i} = 1 \\therefore T_i &= 10\n",
    "\\end{align}\n",
    "\n",
    "E ajustaremos o ganho de acordo."
   ]
  },
  {
   "cell_type": "code",
   "execution_count": 15,
   "metadata": {},
   "outputs": [
    {
     "data": {
      "application/vnd.jupyter.widget-view+json": {
       "model_id": "d4d34ce9a3e048fe8ff865f4ce6d7d5b",
       "version_major": 2,
       "version_minor": 0
      },
      "text/plain": [
       "FigureCanvasNbAgg()"
      ]
     },
     "metadata": {},
     "output_type": "display_data"
    },
    {
     "data": {
      "text/plain": [
       "(inf,\n",
       " 84.23952310638708,\n",
       " 1.0041702994520167,\n",
       " 0.7109861804415457,\n",
       " 0.72,\n",
       " 10.643514260064746)"
      ]
     },
     "execution_count": 15,
     "metadata": {},
     "output_type": "execute_result"
    }
   ],
   "source": [
    "kc, ti = 350, 10\n",
    "g_lead = kc*TransferFunction([ti, 1], [ti, 0])\n",
    "g3 = series(g_lead, plant_tf)\n",
    "system3 = feedback(g3, 1)\n",
    "_, _ = plot_step_response(system3)\n",
    "\n",
    "sys3_overshoot, sys3_settling, sys3_tr =time_domain_metrics(system3)\n",
    "gm3, pm3, wg3, wp3 = margin(system3)\n",
    "\n",
    "(gm3, pm3, sys3_overshoot, sys3_settling, sys3_tr, wp3)"
   ]
  },
  {
   "cell_type": "markdown",
   "metadata": {},
   "source": [
    "### Desempenho design por compensador de Lag ($C_{pid_3}$)\n",
    "\\begin{align}\n",
    "G_m &= \\infty \\\\\n",
    "P_m &= 84.24^{\\circ} \\\\\n",
    "M_p & = 1.0 \\\\\n",
    "T_s & = 0.71 s \\\\\n",
    "T_r & = 1.28 s \\\\\n",
    "\\omega_p &= 10.64 rad/s\n",
    "\\end{align}"
   ]
  },
  {
   "cell_type": "markdown",
   "metadata": {},
   "source": [
    "Como a margem de fase já é suficientemente grande, não há necessidade de projetarmos um compensador de avanço."
   ]
  },
  {
   "cell_type": "markdown",
   "metadata": {},
   "source": [
    "## Comparativo entre controladores\n",
    "\n",
    "\\begin{array}{rrrr} \\hline\n",
    " & C_{pid_1} &C_{pid_2}&C_{pid_3}\\\\ \\hline\n",
    "G_m &\\infty &\\infty&\\infty \\\\ \\hline\n",
    "P_m  &16.97^{\\circ}&122.43^{\\circ}&84.24^{\\circ} \\\\ \\hline\n",
    "M_p &1.47 &1.075&1 \\\\ \\hline\n",
    "T_s &24.65 s&4.47 s&0.71 s \\\\ \\hline\n",
    "T_r &1.4s & 1.28 s&1.28 s\\\\ \\hline\n",
    "\\omega_p&1.06 rad/s&4.89 rad/s&10.64  rad/s\\\\ \\hline\n",
    "\\end{array}"
   ]
  },
  {
   "cell_type": "markdown",
   "metadata": {},
   "source": [
    "## Projeto digital\n",
    "Escolheremos nosso controlador $C_{pid3}$, pois ele obteve um melhor compromisso entre métricas. \n",
    "\n",
    "Sua função transferência é: "
   ]
  },
  {
   "cell_type": "code",
   "execution_count": 16,
   "metadata": {},
   "outputs": [
    {
     "data": {
      "text/latex": [
       "$$\\frac{3500 s + 350}{10 s}$$"
      ],
      "text/plain": [
       "\n",
       "3500 s + 350\n",
       "------------\n",
       "    10 s"
      ]
     },
     "execution_count": 16,
     "metadata": {},
     "output_type": "execute_result"
    }
   ],
   "source": [
    "g_lead"
   ]
  },
  {
   "cell_type": "markdown",
   "metadata": {},
   "source": [
    "Que ao amostrada torna-se:"
   ]
  },
  {
   "cell_type": "code",
   "execution_count": 17,
   "metadata": {},
   "outputs": [
    {
     "data": {
      "text/latex": [
       "$$\\frac{350.2 z - 349.8}{z - 1}\\quad dt = 0.01$$"
      ],
      "text/plain": [
       "\n",
       "350.2 z - 349.8\n",
       "---------------\n",
       "     z - 1\n",
       "\n",
       "dt = 0.01"
      ]
     },
     "execution_count": 17,
     "metadata": {},
     "output_type": "execute_result"
    }
   ],
   "source": [
    "g_lead_d = g_lead.sample(0.01, method='bilinear')\n",
    "g_lead_d"
   ]
  },
  {
   "cell_type": "markdown",
   "metadata": {},
   "source": [
    "Obteremos a equação a diferenças deste controlador, em que $\\delta$ é a saída e entrada é $e$:\n",
    "\\begin{align} \n",
    "\\frac{\\Delta}{E} &= \\frac{350.2z - 349.8}{z - 1} = \\frac{350.2z - 349.8}{z - 1} \\times \\frac{z^{-1}}{z^{-1}} \\\\\n",
    "\\frac{\\Delta}{E} &= \\frac{350.2 - 349.8 z^{-1}}{1 - z^{-1}} \\\\\n",
    "\\Delta (1 - z^{-1}) &= E (350.2 - 349.8 z^{-1}) \\\\\n",
    "\\delta[t] &= \\delta[t-1] + 350.2 e[t] - 349.8 e[t-1]\n",
    "\\end{align}"
   ]
  },
  {
   "cell_type": "markdown",
   "metadata": {},
   "source": [
    "Que seria implementada pelo pseudocódigo abaixo, onde a função `read_errors` simula uma leitura do erro atual e `references` representa a referência em cada instante de tempo:"
   ]
  },
  {
   "cell_type": "code",
   "execution_count": 38,
   "metadata": {},
   "outputs": [],
   "source": [
    "def read_errors():\n",
    "    errors = [1, 0.2, 0.1, 0.01, 0.005, 0.004]\n",
    "    for error in errors:\n",
    "        yield error\n",
    "\n",
    "references = [1, 1, 1, 1, 1, 1]\n",
    "last_error = 0\n",
    "last_out = 0\n",
    "errors = read_errors()\n",
    "for ref in references:\n",
    "    current_error = next(errors)\n",
    "    out = last_out + 350*current_error - 349.8*last_error\n",
    "    last_error= current_error\n",
    "    last_out = out    "
   ]
  },
  {
   "cell_type": "markdown",
   "metadata": {},
   "source": [
    "O resultado ainda é um sistema estável, como veremos abaixo:"
   ]
  },
  {
   "cell_type": "code",
   "execution_count": 18,
   "metadata": {},
   "outputs": [
    {
     "data": {
      "application/vnd.jupyter.widget-view+json": {
       "model_id": "c0d5e508e90b4e7c825ae148437879e8",
       "version_major": 2,
       "version_minor": 0
      },
      "text/plain": [
       "FigureCanvasNbAgg()"
      ]
     },
     "metadata": {},
     "output_type": "display_data"
    },
    {
     "data": {
      "text/plain": [
       "(array([0, 1, 2, 3, 4, 5, 6, 7, 8]),\n",
       " array([0.        , 0.95134646, 0.99427395, 0.99588404, 0.99630344,\n",
       "        0.9966542 , 0.99697096, 0.9972577 , 0.9975173 ]))"
      ]
     },
     "execution_count": 18,
     "metadata": {},
     "output_type": "execute_result"
    }
   ],
   "source": [
    "plant_tf_d = plant_tf.sample(0.01, method='zoh')\n",
    "g4 = series(g_lead_d, plant_tf_d)\n",
    "system4 = feedback(g4, 1)\n",
    "plot_step_response(system4, title='Discrete step response')"
   ]
  },
  {
   "cell_type": "code",
   "execution_count": 19,
   "metadata": {},
   "outputs": [
    {
     "data": {
      "text/plain": [
       "(0.9396486474755695, inf, 0.9975172967533581, 3, 2.46, 1.590689321125211)"
      ]
     },
     "execution_count": 19,
     "metadata": {},
     "output_type": "execute_result"
    }
   ],
   "source": [
    "gm4, pm4, wg4, wp4 = margin(system4)\n",
    "sys4_overshoot, sys4_settling, sys4_tr = time_domain_metrics(system4)\n",
    "(gm4, pm4, sys4_overshoot, sys4_settling, sys4_tr, wg4)"
   ]
  },
  {
   "cell_type": "markdown",
   "metadata": {},
   "source": [
    "### Desempenho controlador digital ($C_{pid_D}$)\n",
    "\\begin{align}\n",
    "G_m &= 0.94 \\\\\n",
    "P_m &= \\infty \\\\\n",
    "M_p & = 1.0 \\\\\n",
    "T_s & = 3 s \\\\\n",
    "T_r & = 2.46s \\\\\n",
    "\\omega_p &= 1.59 rad/s\n",
    "\\end{align}"
   ]
  },
  {
   "cell_type": "markdown",
   "metadata": {},
   "source": [
    "### Comparativo dos controladores\n",
    "\n",
    "\\begin{array}{rrrrr} \\hline\n",
    " & C_{pid_1} &C_{pid_2}&C_{pid_3} & C_{pid_D}\\\\ \\hline\n",
    "G_m &\\infty &\\infty&\\infty & 0.94 \\\\ \\hline\n",
    "    P_m  &16.97^{\\circ}&122.43^{\\circ}&84.24^{\\circ}& \\infty \\\\ \\hline\n",
    "M_p &1.47 &1.075&1& 1 \\\\ \\hline\n",
    "T_s &24.65 s&4.47 s&0.71 s & 3 \\\\ \\hline\n",
    "T_r &1.4s & 1.28 s&1.28 s & 2.46\\\\ \\hline\n",
    "\\omega_p&1.06 rad/s&4.89 rad/s&10.64  rad/s & 1.59 rad/s\\\\ \\hline\n",
    "\\end{array}"
   ]
  }
 ],
 "metadata": {
  "kernelspec": {
   "display_name": "Python 3",
   "language": "python",
   "name": "python3"
  },
  "language_info": {
   "codemirror_mode": {
    "name": "ipython",
    "version": 3
   },
   "file_extension": ".py",
   "mimetype": "text/x-python",
   "name": "python",
   "nbconvert_exporter": "python",
   "pygments_lexer": "ipython3",
   "version": "3.7.3"
  }
 },
 "nbformat": 4,
 "nbformat_minor": 2
}
