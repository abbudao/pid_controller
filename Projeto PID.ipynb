{
 "cells": [
  {
   "cell_type": "markdown",
   "metadata": {},
   "source": [
    "# Projetando um PID"
   ]
  },
  {
   "cell_type": "markdown",
   "metadata": {},
   "source": [
    "## Modelando o sistema\n",
    "\n",
    "Este trabalho foi baseado no problema 3.17 do livro *Control Systems* de *Norman S. Nise*, Sétima edição.\n",
    "\n",
    "![Modelando o vôo do míssil](img/missil.png)\n",
    "\n",
    "O problema modela o vôo de um míssil, que está sujeito a quatro forças: empuxo (*thrust*), sustentação (*lift*),\n",
    "arrasto (*drag*) e gravidade. O míssil voa com um ângulo de ataque, $\\alpha$, do seu eixo longitudinal, criando sustentação. Para seguir um determinado rumo, o ângulo do corpo da vertical, $\\phi$, é controlado rotacionando o motor na cauda. \n",
    "\n",
    "A função de transferência relaciona o ângulo do corpo, $\\phi$, e sua posição angular, $\\delta$, do motor na forma, como mostrado na equação abaixo:\n",
    "\n",
    "\\begin{align}\n",
    " \\frac{\\Phi(s)}{\\delta(s)} = \\frac{K_a s + K_b}{K_3 s^3 + K_2 s^2 + K_1 s + K_0} \\label{eq:plant}\n",
    "\\end{align}"
   ]
  },
  {
   "cell_type": "markdown",
   "metadata": {},
   "source": [
    "## Entendendo a planta\n",
    "\n",
    "Desejamos projetar um controlador PID para controlar o míssil, conforme relacionado pelo diagrama de blocos abaixo:\n",
    "\n",
    "![Diagrama de blocos](img/block-diagram.svg)\n",
    "\n",
    "Para fins práticos, escolheremos os parâmetros da planta de forma arbitrária.\n",
    "\n",
    "A resposta ao degrau e impulso da planta são mostrados abaixo:"
   ]
  },
  {
   "cell_type": "code",
   "execution_count": 103,
   "metadata": {
    "scrolled": false
   },
   "outputs": [],
   "source": [
    "%matplotlib ipympl\n",
    "import matplotlib.pyplot as plt\n",
    "import numpy as np\n",
    "from scipy.interpolate import interp1d\n",
    "from control import (TransferFunction, step_response, bode_plot,\n",
    "                     impulse_response, series, feedback, rlocus,\n",
    "                     margin, nyquist_plot)\n",
    "\n",
    "ka, kb,  = [1, 5]\n",
    "k3, k2, k1, k0 = [2, 50, 10, 5]\n",
    "\n",
    "plant_tf = TransferFunction([ka, kb], [k3, k2, k1, k0])"
   ]
  },
  {
   "cell_type": "code",
   "execution_count": 42,
   "metadata": {},
   "outputs": [
    {
     "data": {
      "application/vnd.jupyter.widget-view+json": {
       "model_id": "",
       "version_major": 2,
       "version_minor": 0
      },
      "text/plain": [
       "FigureCanvasNbAgg()"
      ]
     },
     "metadata": {},
     "output_type": "display_data"
    }
   ],
   "source": [
    "def plot_step_response(tf, title='Step response', show_points=False):\n",
    "    time, output = step_response(tf)\n",
    "    fig = plt.figure()\n",
    "    plt.plot(time, output)\n",
    "    if show_points:\n",
    "        plt.plot(time, output,'om')\n",
    "    plt.title(title)\n",
    "    plt.show()\n",
    "    return time,output\n",
    "\n",
    "time,output = plot_step_response(plant_tf, \n",
    "                                 title='Plant step response')"
   ]
  },
  {
   "cell_type": "markdown",
   "metadata": {},
   "source": [
    "E também podemos visualizar a resposta em frequência da planta através do diagrama de *Bode*:"
   ]
  },
  {
   "cell_type": "code",
   "execution_count": 3,
   "metadata": {},
   "outputs": [
    {
     "data": {
      "application/vnd.jupyter.widget-view+json": {
       "model_id": "",
       "version_major": 2,
       "version_minor": 0
      },
      "text/plain": [
       "FigureCanvasNbAgg()"
      ]
     },
     "metadata": {},
     "output_type": "display_data"
    }
   ],
   "source": [
    "plt.figure()\n",
    "plt.title(\"Bode plot\")\n",
    "mag, phase, omega = bode_plot(plant_tf)"
   ]
  },
  {
   "cell_type": "markdown",
   "metadata": {},
   "source": [
    "## Ajustando controlador"
   ]
  },
  {
   "cell_type": "markdown",
   "metadata": {},
   "source": [
    "### Método resposta a frequência de Ziegler-Nichols\n",
    "A fim de aplicarmos este método, acharemos o ganho crítico do sistema. Para isso analisaremos o lugar das raízes:"
   ]
  },
  {
   "cell_type": "code",
   "execution_count": 4,
   "metadata": {},
   "outputs": [
    {
     "data": {
      "application/vnd.jupyter.widget-view+json": {
       "model_id": "",
       "version_major": 2,
       "version_minor": 0
      },
      "text/plain": [
       "FigureCanvasNbAgg()"
      ]
     },
     "metadata": {},
     "output_type": "display_data"
    }
   ],
   "source": [
    "loci = rlocus(plant_tf, Plot=True, PrintGain=True)"
   ]
  },
  {
   "cell_type": "markdown",
   "metadata": {},
   "source": [
    "Porém, percebe-se que nosso sistema não tem um ganho crítico, podemos aumentá-lo indefinidamente. Logo, não podemos utilizar este método."
   ]
  },
  {
   "cell_type": "markdown",
   "metadata": {},
   "source": [
    "### Método resposta ao degrau de Ziegler-Nichols"
   ]
  },
  {
   "cell_type": "markdown",
   "metadata": {},
   "source": [
    "Para este método, precisamos achar o ponto de inflexão da curva para podermos calcular dois parâmetros: $L$ e $\\alpha$. Destes dois \n",
    "parâmetros, projetaremos um P, PI ou PID seguindo as regras da tabela:\n",
    "\n",
    "\\begin{array}{rr} \\hline\n",
    "\\text{Controlador} & K &T_i&T_d\\\\ \\hline\n",
    "\\text{P} &1/\\alpha&&& \\\\ \\hline\n",
    "\\text{PI} &0.9/\\alpha&3L&& \\\\ \\hline\n",
    "\\text{PID} &1.2/\\alpha&2L&L/2& \\\\ \\hline\n",
    "\\end{array}\n",
    "\n",
    "E a seguinte função transferência:\n",
    "\\begin{align}\n",
    "\\frac{\\Delta(s)}{E(s)} = K_c \\left( 1 + \\frac{1}{T_i s} + T_d s \\right)\n",
    "\\end{align}\n",
    "\n",
    "Para encontrar estes parâmetros, revisitaremos a resposta ao degrau \n",
    "e escolheremos o ponto de inflexão para traçar a tangente."
   ]
  },
  {
   "cell_type": "code",
   "execution_count": 5,
   "metadata": {},
   "outputs": [
    {
     "data": {
      "application/vnd.jupyter.widget-view+json": {
       "model_id": "",
       "version_major": 2,
       "version_minor": 0
      },
      "text/plain": [
       "FigureCanvasNbAgg()"
      ]
     },
     "metadata": {},
     "output_type": "display_data"
    }
   ],
   "source": [
    "time, output = plot_step_response(plant_tf, \n",
    "                                  title='Plant step response',\n",
    "                                  show_points=True)"
   ]
  },
  {
   "cell_type": "markdown",
   "metadata": {},
   "source": [
    "Escolhemos o quinto ponto como ponto de flexão, e vamos tracejar a linha tangente a ele, através da sua derivada (discreta)."
   ]
  },
  {
   "cell_type": "code",
   "execution_count": 6,
   "metadata": {},
   "outputs": [
    {
     "data": {
      "application/vnd.jupyter.widget-view+json": {
       "model_id": "",
       "version_major": 2,
       "version_minor": 0
      },
      "text/plain": [
       "FigureCanvasNbAgg()"
      ]
     },
     "metadata": {},
     "output_type": "display_data"
    }
   ],
   "source": [
    "def derivate_around(x,y,index):\n",
    "    return (y[index] - y[index - 1])/(x[index]- x[index - 1])\n",
    "\n",
    "def tangent_line(x, y, index):\n",
    "    return y[index]+derivate_around(x, y, index)*(x - x[index])\n",
    "\n",
    "inflection_index = 5\n",
    "plt.figure()\n",
    "plt.title(\"Inflection point tangent line\")\n",
    "axes = plt.gca()\n",
    "axes.set_xlim([0,25])\n",
    "axes.set_ylim([-0.5,2])\n",
    "plt.grid(True)\n",
    "plt.plot(time,output,'b',time,tangent_line(time, output, inflection_index),'--r')\n",
    "plt.show()"
   ]
  },
  {
   "cell_type": "markdown",
   "metadata": {},
   "source": [
    "Da figura acima obtemos $L$ e $\\alpha$, da intersecção da reta tangente e o eixos $x$ e $y$, respectivamente:\n",
    "\n",
    "\\begin{align*}\n",
    "L=1.12\\\\\n",
    "\\alpha=0.22\n",
    "\\end{align*}"
   ]
  },
  {
   "cell_type": "code",
   "execution_count": 40,
   "metadata": {},
   "outputs": [
    {
     "data": {
      "text/plain": [
       "(5.454545454545454, 2.24, 0.56)"
      ]
     },
     "execution_count": 40,
     "metadata": {},
     "output_type": "execute_result"
    }
   ],
   "source": [
    "def ziegler_nichols_constants(l,alpha):\n",
    "    return (1.2/alpha, 2*l, l/2)\n",
    "\n",
    "l = 1.12\n",
    "alpha = 0.22\n",
    "k, ti, td = ziegler_nichols_constants(l, alpha) \n",
    "\n",
    "(k, ti, td)"
   ]
  },
  {
   "cell_type": "markdown",
   "metadata": {},
   "source": [
    "Logo, temos:\n",
    "\n",
    "\\begin{align}\n",
    "K_c &= 5.45 \\\\\n",
    "T_i &= 2.24 \\\\\n",
    "T_d &= 0.56 \\\\\n",
    "\\frac{\\Delta(s)}{E(s)} &= 5.45 \\left( 1 + \\frac{1}{2.24 s} + 0.56 s \\right) = \\frac{6.83 s^2 + 12.2s +5.45}{2.24 s}\n",
    "\\end{align}"
   ]
  },
  {
   "cell_type": "code",
   "execution_count": 100,
   "metadata": {
    "scrolled": false
   },
   "outputs": [
    {
     "name": "stderr",
     "output_type": "stream",
     "text": [
      "/usr/lib/python3.7/site-packages/ipykernel_launcher.py:3: RuntimeWarning: More than 20 figures have been opened. Figures created through the pyplot interface (`matplotlib.pyplot.figure`) are retained until explicitly closed and may consume too much memory. (To control this warning, see the rcParam `figure.max_open_warning`).\n",
      "  This is separate from the ipykernel package so we can avoid doing imports until\n"
     ]
    },
    {
     "data": {
      "application/vnd.jupyter.widget-view+json": {
       "model_id": "",
       "version_major": 2,
       "version_minor": 0
      },
      "text/plain": [
       "FigureCanvasNbAgg()"
      ]
     },
     "metadata": {},
     "output_type": "display_data"
    }
   ],
   "source": [
    "controller_tf = TransferFunction([k*ti*td, k*ti, k],[ti, 0])\n",
    "g = series(controller_tf, plant_tf)\n",
    "system = feedback(g, 1)\n",
    "time, output = plot_step_response(system)"
   ]
  },
  {
   "cell_type": "code",
   "execution_count": 72,
   "metadata": {},
   "outputs": [
    {
     "name": "stderr",
     "output_type": "stream",
     "text": [
      "/usr/lib/python3.7/site-packages/ipykernel_launcher.py:1: RuntimeWarning: More than 20 figures have been opened. Figures created through the pyplot interface (`matplotlib.pyplot.figure`) are retained until explicitly closed and may consume too much memory. (To control this warning, see the rcParam `figure.max_open_warning`).\n",
      "  \"\"\"Entry point for launching an IPython kernel.\n"
     ]
    },
    {
     "data": {
      "application/vnd.jupyter.widget-view+json": {
       "model_id": "",
       "version_major": 2,
       "version_minor": 0
      },
      "text/plain": [
       "FigureCanvasNbAgg()"
      ]
     },
     "metadata": {},
     "output_type": "display_data"
    }
   ],
   "source": [
    "plt.figure()\n",
    "plt.title('Nyquist plot')\n",
    "_ = nyquist_plot(g)"
   ]
  },
  {
   "cell_type": "markdown",
   "metadata": {},
   "source": [
    "E então, olharemos métricas em frequência:"
   ]
  },
  {
   "cell_type": "code",
   "execution_count": 73,
   "metadata": {},
   "outputs": [
    {
     "data": {
      "text/plain": [
       "(inf, 17.232154029542244)"
      ]
     },
     "execution_count": 73,
     "metadata": {},
     "output_type": "execute_result"
    }
   ],
   "source": [
    "gm, pm, _, _ = margin(g)\n",
    "(gm, pm)"
   ]
  },
  {
   "cell_type": "markdown",
   "metadata": {},
   "source": [
    "Como o pacote \"control\" não implementa métricas no tempo, teremos que implementá-las. "
   ]
  },
  {
   "cell_type": "code",
   "execution_count": 112,
   "metadata": {},
   "outputs": [
    {
     "data": {
      "application/vnd.jupyter.widget-view+json": {
       "model_id": "48ace3eccd8f438294d2499f9960506e",
       "version_major": 2,
       "version_minor": 0
      },
      "text/plain": [
       "FigureCanvasNbAgg()"
      ]
     },
     "metadata": {},
     "output_type": "display_data"
    },
    {
     "data": {
      "text/plain": [
       "(array([0.000e+00, 1.000e-02, 2.000e-02, ..., 4.997e+01, 4.998e+01,\n",
       "        4.999e+01]),\n",
       " array([0.        , 0.00519446, 0.01038892, ..., 0.99315578, 0.99322815,\n",
       "        0.99330051]))"
      ]
     },
     "execution_count": 112,
     "metadata": {},
     "output_type": "execute_result"
    }
   ],
   "source": [
    "def settling_time(system, error=0.05):\n",
    "    time, output = step_response(system)\n",
    "    settling_time = None\n",
    "    for t, out in zip(time, output):\n",
    "        if abs(1-out) < error:\n",
    "            if settling_time is None:\n",
    "                settling_time = t\n",
    "        else:\n",
    "                settling_time = None\n",
    "    return settling_time\n",
    "\n",
    "def rise_time(system, stop=0, start=1):\n",
    "    time, output = step_response(system)\n",
    "    interpolated = interp1d(time, output)\n",
    "    new_time = np.arange(0, 50, 0.01)\n",
    "    plt.figure()\n",
    "    plt.plot(new_time,interpolated(new_time))\n",
    "    return new_time, interpolated(new_time)\n",
    "\n",
    "def overshoot(system):\n",
    "        _, output = step_response(system)\n",
    "        return max(output)\n",
    "    \n",
    "sys_settling = settling_time(system)\n",
    "sys_overshoot = overshoot(system)\n",
    "rise_time(system)"
   ]
  },
  {
   "cell_type": "markdown",
   "metadata": {},
   "source": [
    "### Desempenho ziegler-nichols sem ajustes\n",
    "\\begin{align}\n",
    "G_m &= \\infty \\\\\n",
    "P_m &= 17.23^{\\circ} \\\\\n",
    "M_p & = 1.48 \\\\\n",
    "T_s & = 29.9 s\n",
    "\\end{align}"
   ]
  }
 ],
 "metadata": {
  "kernelspec": {
   "display_name": "Python 3",
   "language": "python",
   "name": "python3"
  },
  "language_info": {
   "codemirror_mode": {
    "name": "ipython",
    "version": 3
   },
   "file_extension": ".py",
   "mimetype": "text/x-python",
   "name": "python",
   "nbconvert_exporter": "python",
   "pygments_lexer": "ipython3",
   "version": "3.7.3"
  }
 },
 "nbformat": 4,
 "nbformat_minor": 2
}
